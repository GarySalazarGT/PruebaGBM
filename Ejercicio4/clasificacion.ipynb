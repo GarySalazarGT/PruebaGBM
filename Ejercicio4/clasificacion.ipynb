{
 "cells": [
  {
   "cell_type": "markdown",
   "metadata": {},
   "source": [
    "### Importacion de librerias necesarias"
   ]
  },
  {
   "cell_type": "code",
   "execution_count": 1,
   "metadata": {},
   "outputs": [
    {
     "name": "stderr",
     "output_type": "stream",
     "text": [
      "2023-09-21 20:09:10.695778: I tensorflow/core/util/port.cc:110] oneDNN custom operations are on. You may see slightly different numerical results due to floating-point round-off errors from different computation orders. To turn them off, set the environment variable `TF_ENABLE_ONEDNN_OPTS=0`.\n",
      "2023-09-21 20:09:10.697808: I tensorflow/tsl/cuda/cudart_stub.cc:28] Could not find cuda drivers on your machine, GPU will not be used.\n",
      "2023-09-21 20:09:10.744434: I tensorflow/tsl/cuda/cudart_stub.cc:28] Could not find cuda drivers on your machine, GPU will not be used.\n",
      "2023-09-21 20:09:10.745173: I tensorflow/core/platform/cpu_feature_guard.cc:182] This TensorFlow binary is optimized to use available CPU instructions in performance-critical operations.\n",
      "To enable the following instructions: AVX2 AVX512F AVX512_VNNI FMA, in other operations, rebuild TensorFlow with the appropriate compiler flags.\n",
      "2023-09-21 20:09:12.106095: W tensorflow/compiler/tf2tensorrt/utils/py_utils.cc:38] TF-TRT Warning: Could not find TensorRT\n"
     ]
    }
   ],
   "source": [
    "import pandas as pd\n",
    "import numpy as np\n",
    "from sklearn.model_selection import train_test_split\n",
    "from keras.models import Sequential\n",
    "from keras.layers import Dense"
   ]
  },
  {
   "cell_type": "markdown",
   "metadata": {},
   "source": [
    "### Extraccion y Transformacion de datos"
   ]
  },
  {
   "cell_type": "code",
   "execution_count": 2,
   "metadata": {},
   "outputs": [],
   "source": [
    "# Obtencion de datos\n",
    "df = pd.read_csv(\"./data_customer_classification.csv\")"
   ]
  },
  {
   "cell_type": "code",
   "execution_count": 3,
   "metadata": {},
   "outputs": [],
   "source": [
    "labels = ['low', 'medium', 'high'][:3]\n",
    "num_bins = 3\n",
    "\n",
    "# Agregar Target\n",
    "df['category'] = pd.qcut(df['tran_amount'], num_bins, labels=labels)\n",
    "\n",
    "# Convertir el Target en numerico\n",
    "df['category'] = df['category'].replace({'low': 0, 'medium': 1, 'high': 2})"
   ]
  },
  {
   "cell_type": "code",
   "execution_count": 4,
   "metadata": {},
   "outputs": [
    {
     "name": "stdout",
     "output_type": "stream",
     "text": [
      "|    | customer_id   | trans_date   |   tran_amount |   category |\n",
      "|---:|:--------------|:-------------|--------------:|-----------:|\n",
      "|  0 | CS5295        | 11-Feb-13    |            35 |          0 |\n",
      "|  1 | CS4768        | 15-Mar-15    |            39 |          0 |\n",
      "|  2 | CS2122        | 26-Feb-13    |            52 |          0 |\n",
      "|  3 | CS1217        | 16-Nov-11    |            99 |          2 |\n",
      "|  4 | CS1850        | 20-Nov-13    |            78 |          2 |\n"
     ]
    }
   ],
   "source": [
    "print(df.head().to_markdown())"
   ]
  },
  {
   "cell_type": "markdown",
   "metadata": {},
   "source": [
    "### Obtencion de variables Target y Categoricas"
   ]
  },
  {
   "cell_type": "code",
   "execution_count": 5,
   "metadata": {},
   "outputs": [],
   "source": [
    "X = df[['tran_amount']]\n",
    "y = df['category']"
   ]
  },
  {
   "cell_type": "markdown",
   "metadata": {},
   "source": [
    "### Obtencion de los datos Train y Test"
   ]
  },
  {
   "cell_type": "code",
   "execution_count": 6,
   "metadata": {},
   "outputs": [],
   "source": [
    "# Datos de train y test\n",
    "\n",
    "X_train, X_val_test, Y_train, Y_val_test = train_test_split(X, y, test_size=0.3)\n",
    "X_val, X_test, Y_val, Y_test = train_test_split(X_val_test, Y_val_test, test_size=0.5)"
   ]
  },
  {
   "cell_type": "markdown",
   "metadata": {},
   "source": [
    "### Inicio de la red neuronal con Keras"
   ]
  },
  {
   "cell_type": "code",
   "execution_count": 7,
   "metadata": {},
   "outputs": [],
   "source": [
    "# Inicializacion e hiperparametrizacion de la red neuronal\n",
    "model = Sequential()\n",
    "model.add(Dense(32, input_dim=X_train.shape[1]))\n",
    "model.add(Dense(32))\n",
    "model.add(Dense(3, activation='softmax'))\n",
    "\n",
    "# Compila el modelo\n",
    "model.compile(optimizer='adam', loss='sparse_categorical_crossentropy', metrics=['accuracy'])"
   ]
  },
  {
   "cell_type": "code",
   "execution_count": 8,
   "metadata": {},
   "outputs": [
    {
     "name": "stdout",
     "output_type": "stream",
     "text": [
      "Epoch 1/10\n",
      "2735/2735 [==============================] - 7s 2ms/step - loss: 0.5138 - accuracy: 0.8196 - val_loss: 0.1386 - val_accuracy: 0.9571\n",
      "Epoch 2/10\n",
      "2735/2735 [==============================] - 5s 2ms/step - loss: 0.1240 - accuracy: 0.9534 - val_loss: 0.0881 - val_accuracy: 0.9574\n",
      "Epoch 3/10\n",
      "2735/2735 [==============================] - 6s 2ms/step - loss: 0.0943 - accuracy: 0.9607 - val_loss: 0.1738 - val_accuracy: 0.9153\n",
      "Epoch 4/10\n",
      "2735/2735 [==============================] - 5s 2ms/step - loss: 0.0788 - accuracy: 0.9669 - val_loss: 0.4801 - val_accuracy: 0.8621\n",
      "Epoch 5/10\n",
      "2735/2735 [==============================] - 5s 2ms/step - loss: 0.0714 - accuracy: 0.9711 - val_loss: 0.0547 - val_accuracy: 0.9703\n",
      "Epoch 6/10\n",
      "2735/2735 [==============================] - 5s 2ms/step - loss: 0.0645 - accuracy: 0.9725 - val_loss: 0.0545 - val_accuracy: 0.9722\n",
      "Epoch 7/10\n",
      "2735/2735 [==============================] - 5s 2ms/step - loss: 0.0599 - accuracy: 0.9739 - val_loss: 0.1882 - val_accuracy: 0.9186\n",
      "Epoch 8/10\n",
      "2735/2735 [==============================] - 5s 2ms/step - loss: 0.0578 - accuracy: 0.9764 - val_loss: 0.0623 - val_accuracy: 0.9723\n",
      "Epoch 9/10\n",
      "2735/2735 [==============================] - 5s 2ms/step - loss: 0.0549 - accuracy: 0.9776 - val_loss: 0.0276 - val_accuracy: 1.0000\n",
      "Epoch 10/10\n",
      "2735/2735 [==============================] - 5s 2ms/step - loss: 0.0564 - accuracy: 0.9770 - val_loss: 0.0613 - val_accuracy: 0.9574\n"
     ]
    },
    {
     "data": {
      "text/plain": [
       "<keras.src.callbacks.History at 0x7fe296944340>"
      ]
     },
     "execution_count": 8,
     "metadata": {},
     "output_type": "execute_result"
    }
   ],
   "source": [
    "# Entrena el modelo con los datos de entrenamiento\n",
    "model.fit(X_train, Y_train, epochs=5, validation_data=(X_val, Y_val))"
   ]
  },
  {
   "cell_type": "markdown",
   "metadata": {},
   "source": [
    "### Evaluacion de modelo"
   ]
  },
  {
   "cell_type": "code",
   "execution_count": 9,
   "metadata": {},
   "outputs": [
    {
     "name": "stdout",
     "output_type": "stream",
     "text": [
      "586/586 [==============================] - 1s 1ms/step - loss: 0.0614 - accuracy: 0.9584\n"
     ]
    },
    {
     "data": {
      "text/plain": [
       "0.9584000110626221"
      ]
     },
     "execution_count": 9,
     "metadata": {},
     "output_type": "execute_result"
    }
   ],
   "source": [
    "model.evaluate(X_test, Y_test)[1]"
   ]
  },
  {
   "cell_type": "markdown",
   "metadata": {},
   "source": [
    "### Datos predictorios"
   ]
  },
  {
   "cell_type": "code",
   "execution_count": 10,
   "metadata": {},
   "outputs": [],
   "source": [
    "def prediction(tran_amount):\n",
    "    new_data = np.array([[tran_amount]])\n",
    "    prediction = model.predict(new_data)\n",
    "    \n",
    "    predicted_category = ['low', 'medium', 'high'][np.argmax(prediction)]\n",
    "    \n",
    "    return predicted_category"
   ]
  },
  {
   "cell_type": "markdown",
   "metadata": {},
   "source": [
    "### Test de predicciones"
   ]
  },
  {
   "cell_type": "code",
   "execution_count": 18,
   "metadata": {},
   "outputs": [
    {
     "name": "stdout",
     "output_type": "stream",
     "text": [
      "1/1 [==============================] - 0s 103ms/step\n",
      "Se agrega un nuevo cliento al dataset con un consumo de 50 con categoria low\n",
      "\n"
     ]
    }
   ],
   "source": [
    "amount = 50\n",
    "category = prediction(50)\n",
    "print(f\"Se agrega un nuevo cliento al dataset con un consumo de {amount} con categoria {category}\" + \"\\n\")"
   ]
  },
  {
   "cell_type": "code",
   "execution_count": 20,
   "metadata": {},
   "outputs": [
    {
     "name": "stdout",
     "output_type": "stream",
     "text": [
      "1/1 [==============================] - 0s 27ms/step\n",
      "Se agrega un nuevo cliento al dataset con un consumo de 67 con categoria medium\n",
      "\n"
     ]
    }
   ],
   "source": [
    "amount = 67\n",
    "category = prediction(67)\n",
    "print(f\"Se agrega un nuevo cliento al dataset con un consumo de {amount} con categoria {category}\" + \"\\n\")"
   ]
  },
  {
   "cell_type": "code",
   "execution_count": 21,
   "metadata": {},
   "outputs": [
    {
     "name": "stdout",
     "output_type": "stream",
     "text": [
      "1/1 [==============================] - 0s 19ms/step\n",
      "Se agrega un nuevo cliento al dataset con un consumo de 80 con categoria high\n",
      "\n"
     ]
    }
   ],
   "source": [
    "amount = 80\n",
    "category = prediction(80)\n",
    "print(f\"Se agrega un nuevo cliento al dataset con un consumo de {amount} con categoria {category}\" + \"\\n\")"
   ]
  },
  {
   "cell_type": "code",
   "execution_count": 22,
   "metadata": {},
   "outputs": [
    {
     "name": "stdout",
     "output_type": "stream",
     "text": [
      "1/1 [==============================] - 0s 26ms/step\n",
      "Se agrega un nuevo cliento al dataset con un consumo de 32 con categoria low\n",
      "\n"
     ]
    }
   ],
   "source": [
    "amount = 32\n",
    "category = prediction(32)\n",
    "print(f\"Se agrega un nuevo cliento al dataset con un consumo de {amount} con categoria {category}\" + \"\\n\")"
   ]
  },
  {
   "cell_type": "code",
   "execution_count": 23,
   "metadata": {},
   "outputs": [
    {
     "name": "stdout",
     "output_type": "stream",
     "text": [
      "1/1 [==============================] - 0s 25ms/step\n",
      "Se agrega un nuevo cliento al dataset con un consumo de 70 con categoria medium\n",
      "\n"
     ]
    }
   ],
   "source": [
    "amount = 70\n",
    "category = prediction(70)\n",
    "print(f\"Se agrega un nuevo cliento al dataset con un consumo de {amount} con categoria {category}\" + \"\\n\")"
   ]
  }
 ],
 "metadata": {
  "kernelspec": {
   "display_name": "Python 3",
   "language": "python",
   "name": "python3"
  },
  "language_info": {
   "codemirror_mode": {
    "name": "ipython",
    "version": 3
   },
   "file_extension": ".py",
   "mimetype": "text/x-python",
   "name": "python",
   "nbconvert_exporter": "python",
   "pygments_lexer": "ipython3",
   "version": "3.10.12"
  },
  "orig_nbformat": 4
 },
 "nbformat": 4,
 "nbformat_minor": 2
}
